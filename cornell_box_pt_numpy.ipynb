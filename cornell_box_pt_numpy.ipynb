{
  "nbformat": 4,
  "nbformat_minor": 0,
  "metadata": {
    "colab": {
      "name": "cornell_box_pt_numpy.ipynb",
      "provenance": [],
      "collapsed_sections": [],
      "last_runtime": {
        "build_target": "//learning/deepmind/dm_python:dm_notebook3",
        "kind": "private"
      }
    },
    "kernelspec": {
      "name": "python3",
      "display_name": "Python 3"
    }
  },
  "cells": [
    {
      "cell_type": "markdown",
      "metadata": {
        "id": "7znzR-dT0PQY",
        "colab_type": "text"
      },
      "source": [
        "# Cornell Box + Path Tracing\n",
        "\n",
        "Numpy implementation of path tracer."
      ]
    },
    {
      "cell_type": "markdown",
      "metadata": {
        "id": "QlgXwQNraKtK",
        "colab_type": "text"
      },
      "source": [
        "## Numpy Implementation"
      ]
    },
    {
      "cell_type": "code",
      "metadata": {
        "id": "XUDOth2z0Mb-",
        "colab_type": "code",
        "colab": {}
      },
      "source": [
        "import numpy as np\n",
        "import matplotlib.pyplot as plt\n",
        "from mpl_toolkits.mplot3d import Axes3D\n",
        "from matplotlib import cm"
      ],
      "execution_count": 0,
      "outputs": []
    },
    {
      "cell_type": "code",
      "metadata": {
        "id": "juLnLW09yVq9",
        "colab_type": "code",
        "colab": {}
      },
      "source": [
        " def length(p):\n",
        "  return np.linalg.norm(p, axis=1, keepdims=True)\n",
        "  \n",
        "def normalize(p):\n",
        "  return p/length(p)"
      ],
      "execution_count": 0,
      "outputs": []
    },
    {
      "cell_type": "code",
      "metadata": {
        "id": "dK63FtbP7sWU",
        "colab_type": "code",
        "colab": {}
      },
      "source": [
        "def sdSphere(p,radius):\n",
        "  return length(p) - radius"
      ],
      "execution_count": 0,
      "outputs": []
    },
    {
      "cell_type": "code",
      "metadata": {
        "id": "IVxIyjt8XGNU",
        "colab_type": "code",
        "colab": {}
      },
      "source": [
        "def udBox(p, b):\n",
        "  # b = half-widths\n",
        "  return length(np.maximum(np.abs(p)-b,0.0))"
      ],
      "execution_count": 0,
      "outputs": []
    },
    {
      "cell_type": "code",
      "metadata": {
        "id": "Kd0s1C7OL7ax",
        "colab_type": "code",
        "colab": {}
      },
      "source": [
        "def rotateX(p,a):\n",
        "  c = np.cos(a); s = np.sin(a);\n",
        "  px,py,pz=p[:,0,None],p[:,1,None],p[:,2,None]\n",
        "  return np.concatenate([px,c*py-s*pz,s*py+c*pz],axis=1)\n",
        "\n",
        "def rotateY(p,a):\n",
        "  c = np.cos(a); s = np.sin(a);\n",
        "  px,py,pz=p[:,0,None],p[:,1,None],p[:,2,None]\n",
        "  return np.concatenate([c*px+s*pz,py,-s*px+c*pz],axis=1)\n",
        "\n",
        "def rotateZ(p,a):\n",
        "  c = np.cos(a); s = np.sin(a);\n",
        "  px,py,pz=p[:,0,None],p[:,1,None],p[:,2,None]\n",
        "  return np.concatenate([c*px-s*py,s*px+c*py,pz],axis=1)"
      ],
      "execution_count": 0,
      "outputs": []
    },
    {
      "cell_type": "code",
      "metadata": {
        "id": "XEmjAOlZOsiD",
        "colab_type": "code",
        "colab": {}
      },
      "source": [
        "def opU(a,b):\n",
        "  # can this be implemented using tf.select?\n",
        "  # element-wise minimum (id,distance)\n",
        "  a_smaller = a[:,1] < b[:,1]\n",
        "  b[a_smaller,:] = a[a_smaller,:]\n",
        "  return b"
      ],
      "execution_count": 0,
      "outputs": []
    },
    {
      "cell_type": "code",
      "metadata": {
        "id": "V-5naOPZ7yG7",
        "colab_type": "code",
        "colab": {}
      },
      "source": [
        "def clamp01(v):\n",
        "  # maybe we should use sigmoid instead of hard thresholding for nicer gradients / soft shadows?\n",
        "  return np.minimum(np.maximum(v,0.0),1.0)\n",
        "\n",
        "def relu(a):\n",
        "  return np.maximum(a,0.)\n",
        "\n",
        "def dot(a,b):\n",
        "  return np.sum(a*b,axis=1,keepdims=True)\n"
      ],
      "execution_count": 0,
      "outputs": []
    },
    {
      "cell_type": "code",
      "metadata": {
        "id": "7Q6WHGsusb5i",
        "colab_type": "code",
        "colab": {}
      },
      "source": [
        "p = np.array([[1, 2, 3],\n",
        "              [4, 5, 6],\n",
        "              [7, 8, 9]])"
      ],
      "execution_count": 0,
      "outputs": []
    },
    {
      "cell_type": "code",
      "metadata": {
        "id": "I9U_U4GgshCb",
        "colab_type": "code",
        "outputId": "711730de-5906-49b0-9b2d-6f14210ae02d",
        "executionInfo": {
          "status": "ok",
          "timestamp": 1574634480484,
          "user_tz": 480,
          "elapsed": 302,
          "user": {
            "displayName": "Eric Jang",
            "photoUrl": "https://lh3.googleusercontent.com/a-/AAuE7mAMjPmMQfp2nkKuIOsGK7ZRAYfuieou1bC1tdbMMQ=s64",
            "userId": "12717831053666785416"
          }
        },
        "colab": {
          "height": 70
        }
      },
      "source": [
        "length(p)"
      ],
      "execution_count": 0,
      "outputs": [
        {
          "output_type": "execute_result",
          "data": {
            "text/plain": [
              "array([[ 3.74165739],\n",
              "       [ 8.77496439],\n",
              "       [13.92838828]])"
            ]
          },
          "metadata": {
            "tags": []
          },
          "execution_count": 9
        }
      ]
    },
    {
      "cell_type": "code",
      "metadata": {
        "id": "LzN3o5t1swVQ",
        "colab_type": "code",
        "outputId": "061273dd-5e7a-447c-c81f-647153f686b8",
        "executionInfo": {
          "status": "ok",
          "timestamp": 1574634480812,
          "user_tz": 480,
          "elapsed": 314,
          "user": {
            "displayName": "Eric Jang",
            "photoUrl": "https://lh3.googleusercontent.com/a-/AAuE7mAMjPmMQfp2nkKuIOsGK7ZRAYfuieou1bC1tdbMMQ=s64",
            "userId": "12717831053666785416"
          }
        },
        "colab": {
          "height": 70
        }
      },
      "source": [
        "udBox(p - np.array([[0,3.9,2]]), np.array([[.5,.01,.5]]))"
      ],
      "execution_count": 0,
      "outputs": [
        {
          "output_type": "execute_result",
          "data": {
            "text/plain": [
              "array([[ 2.0179445 ],\n",
              "       [ 5.06834292],\n",
              "       [10.06121762]])"
            ]
          },
          "metadata": {
            "tags": []
          },
          "execution_count": 10
        }
      ]
    },
    {
      "cell_type": "code",
      "metadata": {
        "id": "7jlL0BzDNCQj",
        "colab_type": "code",
        "colab": {}
      },
      "source": [
        "import pdb"
      ],
      "execution_count": 0,
      "outputs": []
    },
    {
      "cell_type": "code",
      "metadata": {
        "id": "BQnVrYY9s3Bp",
        "colab_type": "code",
        "colab": {}
      },
      "source": [
        "# Discussion of cosine-weighted importance sampling for Lambertian BRDFs,\n",
        "# http://www.rorydriscoll.com/2009/01/07/better-sampling/\n",
        "# and implementation here:\n",
        "# https://www.shadertoy.com/view/4tl3z4\n",
        "\n",
        "def sampleCosineWeightedHemisphere(n):\n",
        "  u1 = np.random.uniform(low=0,high=1,size=(n.shape[0],1))\n",
        "  u2 = np.random.uniform(low=0,high=1,size=(n.shape[0],1))\n",
        "  uu = normalize(np.cross(n, np.array([[0.,1.,1.]])))\n",
        "  vv = np.cross(uu,n)\n",
        "  ra = np.sqrt(u2)\n",
        "  rx = ra*np.cos(2*np.pi*u1)\n",
        "  ry = ra*np.sin(2*np.pi*u1)\n",
        "  rz = np.sqrt(1.-u2)\n",
        "  rr = rx*uu+ry*vv+rz*n\n",
        "  return normalize(rr)"
      ],
      "execution_count": 0,
      "outputs": []
    },
    {
      "cell_type": "code",
      "metadata": {
        "id": "hy-um8rYMwD1",
        "colab_type": "code",
        "outputId": "0b76dec1-a3bc-43a3-9b90-c5ab3e3ac89d",
        "executionInfo": {
          "status": "ok",
          "timestamp": 1574634482127,
          "user_tz": 480,
          "elapsed": 639,
          "user": {
            "displayName": "Eric Jang",
            "photoUrl": "https://lh3.googleusercontent.com/a-/AAuE7mAMjPmMQfp2nkKuIOsGK7ZRAYfuieou1bC1tdbMMQ=s64",
            "userId": "12717831053666785416"
          }
        },
        "colab": {
          "height": 214
        }
      },
      "source": [
        "# testing cosine-weighted sphere projection\n",
        "nor = normalize(np.array([[1.,1.,0.]]))\n",
        "nor = np.tile(nor,[1000,1])\n",
        "rd = sampleCosineWeightedHemisphere(nor)\n",
        "\n",
        "fig = plt.figure()\n",
        "ax = fig.add_subplot(121, projection='3d')\n",
        "ax.scatter(rd[:,0],rd[:,2],rd[:,1])\n",
        "ax.set_xlabel('X')\n",
        "ax.set_ylabel('Z')\n",
        "ax.set_zlabel('Y')\n",
        "ax.set_aspect('equal')\n",
        "\n",
        "ax = fig.add_subplot(122)\n",
        "ax.scatter(rd[:,0],rd[:,1])\n",
        "ax.set_aspect('equal')\n"
      ],
      "execution_count": 0,
      "outputs": [
        {
          "output_type": "display_data",
          "data": {
            "image/png": "[encoded data removed]",
            "text/plain": [
              "<Figure size 600x400 with 2 Axes>"
            ]
          },
          "metadata": {
            "tags": []
          }
        }
      ]
    },
    {
      "cell_type": "code",
      "metadata": {
        "id": "u4YdySjAHf_U",
        "colab_type": "code",
        "colab": {}
      },
      "source": [
        "# object ids\n",
        "\n",
        "OBJ_NONE=0.0\n",
        "\n",
        "OBJ_FLOOR=0.1\n",
        "OBJ_CEIL=.2\n",
        "OBJ_WALL_RD=.3\n",
        "OBJ_WALL_WH=.4\n",
        "OBJ_WALL_GR=.5\n",
        "OBJ_SHORT_BLOCK=.6\n",
        "OBJ_TALL_BLOCK=.7\n",
        "OBJ_LIGHT=1.0\n",
        "\n",
        "OBJ_SPHERE=0.9"
      ],
      "execution_count": 0,
      "outputs": []
    },
    {
      "cell_type": "code",
      "metadata": {
        "id": "3kjjsudGUOHg",
        "colab_type": "code",
        "colab": {}
      },
      "source": [
        "# helper fn for constructing distance fields with object ids\n",
        "# will be better to refactor this later as its own struct\n",
        "def df(obj_id, dist):\n",
        "  d = np.zeros((dist.shape[0],2))\n",
        "  d[:,0] = obj_id\n",
        "  d[:,1] = dist.flatten()\n",
        "  return d"
      ],
      "execution_count": 0,
      "outputs": []
    },
    {
      "cell_type": "code",
      "metadata": {
        "id": "aP7ctdANIF8C",
        "colab_type": "code",
        "colab": {}
      },
      "source": [
        "def sdScene(p):\n",
        "  px,py,pz=p[:,0,None],p[:,1,None],p[:,2,None]\n",
        "  # floor\n",
        "  obj_floor = df(OBJ_FLOOR, py) # py = distance from y=0\n",
        "  res = obj_floor\n",
        "  \n",
        "  # sphere\n",
        "  #obj_sphere = df(OBJ_SPHERE, sdSphere(p-np.array([[0,2.,0.]]),1.0))\n",
        "  #res=obj_sphere\n",
        "  #res = opU(res,obj_sphere)\n",
        "  \n",
        "  # ceiling\n",
        "  obj_ceil = df(OBJ_CEIL, 4.-py)\n",
        "  res = opU(res,obj_ceil)\n",
        "  \n",
        "  # backwall\n",
        "  obj_bwall = df(OBJ_WALL_WH, 4.-pz)\n",
        "  res = opU(res,obj_bwall)\n",
        "  \n",
        "  # leftwall\n",
        "  obj_lwall = df(OBJ_WALL_RD, px-(-2))\n",
        "  res = opU(res,obj_lwall)\n",
        "  \n",
        "  # rightwall\n",
        "  obj_rwall = df(OBJ_WALL_GR, 2-px)\n",
        "  res = opU(res,obj_rwall)\n",
        "\n",
        "  # light\n",
        "  obj_light = df(OBJ_LIGHT, udBox(p - np.array([[0,3.9,2]]), np.array([[.5,.01,.5]])))\n",
        "  res = opU(res,obj_light)\n",
        "  \n",
        "  # tall block\n",
        "  bh = 1.3\n",
        "  p2 = rotateY(p- np.array([[-.64,bh,2.6]]),.15*np.pi)\n",
        "  d = udBox(p2, np.array([[.6,bh,.6]]))\n",
        "  obj_tall_block = df(OBJ_TALL_BLOCK, d)\n",
        "  res = opU(res,obj_tall_block)  \n",
        "  \n",
        "  # short block\n",
        "  bw = .6\n",
        "  p2 = rotateY(p- np.array([[.65,bw,1.7]]),-.1*np.pi)\n",
        "  d = udBox(p2, np.array([[bw,bw,bw]]))\n",
        "  obj_short_block = df(OBJ_SHORT_BLOCK, d)\n",
        "  res = opU(res,obj_short_block)\n",
        "  \n",
        "  return res"
      ],
      "execution_count": 0,
      "outputs": []
    },
    {
      "cell_type": "code",
      "metadata": {
        "id": "q4PVMLM7tMlt",
        "colab_type": "code",
        "outputId": "47a45227-c909-4ef3-d82f-df59baf0680f",
        "executionInfo": {
          "status": "ok",
          "timestamp": 1574658829185,
          "user_tz": 480,
          "elapsed": 308,
          "user": {
            "displayName": "Eric Jang",
            "photoUrl": "https://lh3.googleusercontent.com/a-/AAuE7mAMjPmMQfp2nkKuIOsGK7ZRAYfuieou1bC1tdbMMQ=s64",
            "userId": "12717831053666785416"
          }
        },
        "colab": {
          "height": 141
        }
      },
      "source": [
        "sdScene(p)"
      ],
      "execution_count": 0,
      "outputs": [
        {
          "output_type": "execute_result",
          "data": {
            "text/plain": [
              "array([[5.00000000e-01, 6.88362700e-11],\n",
              "       [1.00000000e-01, 6.28497254e-11],\n",
              "       [1.00000000e-01, 5.74367220e-11],\n",
              "       ...,\n",
              "       [2.00000000e-01, 5.74367220e-11],\n",
              "       [2.00000000e-01, 6.28497254e-11],\n",
              "       [3.00000000e-01, 6.88362700e-11]])"
            ]
          },
          "metadata": {
            "tags": []
          },
          "execution_count": 317
        }
      ]
    },
    {
      "cell_type": "code",
      "metadata": {
        "id": "Y1P4QDDW7to1",
        "colab_type": "code",
        "colab": {}
      },
      "source": [
        "def calcNormal(p):\n",
        "  # derivative approximation via midpoint rule\n",
        "  eps = 0.001\n",
        "  dx=np.array([[eps,0,0]])\n",
        "  dy=np.array([[0,eps,0]])\n",
        "  dz=np.array([[0,0,eps]])\n",
        "  # exactract just the distance component\n",
        "  nor = np.concatenate([\n",
        "    sdScene(p+dx)[:,1,None] - sdScene(p-dx)[:,1,None],\n",
        "    sdScene(p+dy)[:,1,None] - sdScene(p-dy)[:,1,None],\n",
        "    sdScene(p+dz)[:,1,None] - sdScene(p-dz)[:,1,None],\n",
        "  ],axis=1)\n",
        "  return normalize(nor)"
      ],
      "execution_count": 0,
      "outputs": []
    },
    {
      "cell_type": "code",
      "metadata": {
        "id": "kbrYbtuxWtNh",
        "colab_type": "code",
        "colab": {}
      },
      "source": [
        "MAX_ITERS = 50\n",
        "HORIZON=20.0\n",
        "\n",
        "def raymarch(ro,rd):\n",
        "  # returns df struct (id,t)\n",
        "  t = 0.0 \n",
        "  for i in range(MAX_ITERS):\n",
        "    res = sdScene(ro + t*rd)\n",
        "    # print(res)\n",
        "    t += res[:,1,None] # t is (N,1).\n",
        "  # perform horizon cutoff\n",
        "  \n",
        "  res[t[:,0] > HORIZON,0] = OBJ_NONE \n",
        "  # zip object id + intersect\n",
        "  return df(res[:,0],t)"
      ],
      "execution_count": 0,
      "outputs": []
    },
    {
      "cell_type": "code",
      "metadata": {
        "id": "FuAU5vPFtS-f",
        "colab_type": "code",
        "outputId": "0fdf8c1b-f57f-4359-a675-ea778ebf12dd",
        "executionInfo": {
          "status": "error",
          "timestamp": 1574658831530,
          "user_tz": 480,
          "elapsed": 297,
          "user": {
            "displayName": "Eric Jang",
            "photoUrl": "https://lh3.googleusercontent.com/a-/AAuE7mAMjPmMQfp2nkKuIOsGK7ZRAYfuieou1bC1tdbMMQ=s64",
            "userId": "12717831053666785416"
          }
        },
        "colab": {
          "height": 310
        }
      },
      "source": [
        "rd = np.array([[0, 0., -1],[0, 0., -1],[0, 0., -1]])\n",
        "raymarch(p, rd)"
      ],
      "execution_count": 0,
      "outputs": [
        {
          "output_type": "error",
          "ename": "ValueError",
          "evalue": "ignored",
          "traceback": [
            "\u001b[1;31m---------------------------------------------------------------------------\u001b[0m\n\u001b[1;31mValueError\u001b[0m                                Traceback (most recent call last)",
            "\u001b[1;32m<ipython-input-320-bae72f55a4d2>\u001b[0m in \u001b[0;36m<module>\u001b[1;34m()\u001b[0m\n\u001b[0;32m      1\u001b[0m \u001b[0mrd\u001b[0m \u001b[1;33m=\u001b[0m \u001b[0mnp\u001b[0m\u001b[1;33m.\u001b[0m\u001b[0marray\u001b[0m\u001b[1;33m(\u001b[0m\u001b[1;33m[\u001b[0m\u001b[1;33m[\u001b[0m\u001b[1;36m0\u001b[0m\u001b[1;33m,\u001b[0m \u001b[1;36m0.\u001b[0m\u001b[1;33m,\u001b[0m \u001b[1;33m-\u001b[0m\u001b[1;36m1\u001b[0m\u001b[1;33m]\u001b[0m\u001b[1;33m,\u001b[0m\u001b[1;33m[\u001b[0m\u001b[1;36m0\u001b[0m\u001b[1;33m,\u001b[0m \u001b[1;36m0.\u001b[0m\u001b[1;33m,\u001b[0m \u001b[1;33m-\u001b[0m\u001b[1;36m1\u001b[0m\u001b[1;33m]\u001b[0m\u001b[1;33m,\u001b[0m\u001b[1;33m[\u001b[0m\u001b[1;36m0\u001b[0m\u001b[1;33m,\u001b[0m \u001b[1;36m0.\u001b[0m\u001b[1;33m,\u001b[0m \u001b[1;33m-\u001b[0m\u001b[1;36m1\u001b[0m\u001b[1;33m]\u001b[0m\u001b[1;33m]\u001b[0m\u001b[1;33m)\u001b[0m\u001b[1;33m\u001b[0m\u001b[1;33m\u001b[0m\u001b[0m\n\u001b[1;32m----> 2\u001b[1;33m \u001b[0mraymarch\u001b[0m\u001b[1;33m(\u001b[0m\u001b[0mp\u001b[0m\u001b[1;33m,\u001b[0m \u001b[0mrd\u001b[0m\u001b[1;33m)\u001b[0m\u001b[1;33m\u001b[0m\u001b[1;33m\u001b[0m\u001b[0m\n\u001b[0m",
            "\u001b[1;32m<ipython-input-319-2599795486a5>\u001b[0m in \u001b[0;36mraymarch\u001b[1;34m(ro, rd)\u001b[0m\n\u001b[0;32m      6\u001b[0m   \u001b[0mt\u001b[0m \u001b[1;33m=\u001b[0m \u001b[1;36m0.0\u001b[0m\u001b[1;33m\u001b[0m\u001b[1;33m\u001b[0m\u001b[0m\n\u001b[0;32m      7\u001b[0m   \u001b[1;32mfor\u001b[0m \u001b[0mi\u001b[0m \u001b[1;32min\u001b[0m \u001b[0mrange\u001b[0m\u001b[1;33m(\u001b[0m\u001b[0mMAX_ITERS\u001b[0m\u001b[1;33m)\u001b[0m\u001b[1;33m:\u001b[0m\u001b[1;33m\u001b[0m\u001b[1;33m\u001b[0m\u001b[0m\n\u001b[1;32m----> 8\u001b[1;33m     \u001b[0mres\u001b[0m \u001b[1;33m=\u001b[0m \u001b[0msdScene\u001b[0m\u001b[1;33m(\u001b[0m\u001b[0mro\u001b[0m \u001b[1;33m+\u001b[0m \u001b[0mt\u001b[0m\u001b[1;33m*\u001b[0m\u001b[0mrd\u001b[0m\u001b[1;33m)\u001b[0m\u001b[1;33m\u001b[0m\u001b[1;33m\u001b[0m\u001b[0m\n\u001b[0m\u001b[0;32m      9\u001b[0m     \u001b[1;31m# print(res)\u001b[0m\u001b[1;33m\u001b[0m\u001b[1;33m\u001b[0m\u001b[1;33m\u001b[0m\u001b[0m\n\u001b[0;32m     10\u001b[0m     \u001b[0mt\u001b[0m \u001b[1;33m+=\u001b[0m \u001b[0mres\u001b[0m\u001b[1;33m[\u001b[0m\u001b[1;33m:\u001b[0m\u001b[1;33m,\u001b[0m\u001b[1;36m1\u001b[0m\u001b[1;33m,\u001b[0m\u001b[1;32mNone\u001b[0m\u001b[1;33m]\u001b[0m \u001b[1;31m# t is (N,1).\u001b[0m\u001b[1;33m\u001b[0m\u001b[1;33m\u001b[0m\u001b[0m\n",
            "\u001b[1;31mValueError\u001b[0m: operands could not be broadcast together with shapes (10000,3) (3,3) "
          ]
        }
      ]
    },
    {
      "cell_type": "code",
      "metadata": {
        "id": "weZsJxX5Idug",
        "colab_type": "code",
        "colab": {}
      },
      "source": [
        "# LIGHT_AREA=.2*.2 # 20cm x 20cm light source.\n",
        "LIGHT_AREA = 1 * 1 # geometery implies 1 meter by 1 meter !! \n",
        "# emissive_power = np.array([[0.15, 0.15, 0.15]]) \n",
        "emissive_power = np.array([[25., 25., 25.]]) # 25 Watts.\n",
        "emittedRadiance = emissive_power / np.pi * LIGHT_AREA # Emitted radiance from any direction (Watts / m^2 )\n",
        "# Lambertian BRDF\n",
        "lightDiffuseColor = np.array([[.2, .2, .2]]);\n",
        "leftWallColor = np.array([[.611, .0555, .062]]) * 1.5\n",
        "rightWallColor = np.array([[.117, .4125, .115]]) * 1.5\n",
        "whiteWallColor = np.array([[255, 239, 196]]) / 255 # * .8"
      ],
      "execution_count": 0,
      "outputs": []
    },
    {
      "cell_type": "code",
      "metadata": {
        "id": "nCBp5Wnw1fCQ",
        "colab_type": "code",
        "outputId": "7db6da33-d0cf-4d96-8eb8-df832f6479a9",
        "executionInfo": {
          "status": "ok",
          "timestamp": 1574659776308,
          "user_tz": 480,
          "elapsed": 349,
          "user": {
            "displayName": "Eric Jang",
            "photoUrl": "https://lh3.googleusercontent.com/a-/AAuE7mAMjPmMQfp2nkKuIOsGK7ZRAYfuieou1bC1tdbMMQ=s64",
            "userId": "12717831053666785416"
          }
        },
        "colab": {
          "height": 34
        }
      },
      "source": [
        "emittedRadiance"
      ],
      "execution_count": 0,
      "outputs": [
        {
          "output_type": "execute_result",
          "data": {
            "text/plain": [
              "array([[7.95774715, 7.95774715, 7.95774715]])"
            ]
          },
          "metadata": {
            "tags": []
          },
          "execution_count": 348
        }
      ]
    },
    {
      "cell_type": "code",
      "metadata": {
        "id": "YtKkLluzd9sK",
        "colab_type": "code",
        "colab": {}
      },
      "source": [
        "# # we know what the light normals must be, so we don't need to analytically\n",
        "# # approximate. Anyways, if we learn the normal field, then\n",
        "# # this shouldn't be any extra computation.\n",
        "nor_light = np.array([[0.,-1.,0.]])"
      ],
      "execution_count": 0,
      "outputs": []
    },
    {
      "cell_type": "code",
      "metadata": {
        "id": "Ali1ksNIz0a7",
        "colab_type": "code",
        "colab": {}
      },
      "source": [
        "def trace(ro,rd,depth,debug=False):\n",
        "  #print('depth %d, tracing %d rays' % (depth, rd.shape[0]))\n",
        "  # returns color arriving at ro from rd\n",
        "  #pdb.set_trace()\n",
        "  res = raymarch(ro,rd)\n",
        "  #print('%d null-intersections' % np.sum(res[:,0] == OBJ_NONE))\n",
        "  \n",
        "  if debug:\n",
        "     # visualize id\n",
        "    return np.tile(res[:,0,None],[1,3])\n",
        "  \n",
        "  # assign lambertian brdfs\n",
        "  brdf = np.zeros((res.shape[0],3))\n",
        "  brdf[res[:,0] == OBJ_NONE,:] = 0.0\n",
        "  brdf[res[:,0] == OBJ_CEIL,:] = whiteWallColor\n",
        "  brdf[res[:,0] == OBJ_FLOOR,:] = whiteWallColor\n",
        "  brdf[res[:,0] == OBJ_LIGHT,:] = lightDiffuseColor\n",
        "  brdf[res[:,0] == OBJ_SHORT_BLOCK,:] = whiteWallColor\n",
        "  brdf[res[:,0] == OBJ_TALL_BLOCK,:] = whiteWallColor\n",
        "  brdf[res[:,0] == OBJ_WALL_GR,:] = rightWallColor\n",
        "  brdf[res[:,0] == OBJ_WALL_RD,:] = leftWallColor\n",
        "  brdf[res[:,0] == OBJ_WALL_WH,:] = whiteWallColor\n",
        "\n",
        "  t = res[:,1,None]\n",
        "  p = ro + t*rd\n",
        "  nor = calcNormal(p)\n",
        "  \n",
        "  radiance = np.zeros((ro.shape[0],3))\n",
        "  \n",
        "  did_intersect = res[:,0] != OBJ_NONE\n",
        "  \n",
        "  # emitted radiance. This is only counted if it's an eye ray, since\n",
        "  # this contribution is also added in at every bounce.\n",
        "  \n",
        "  if depth==0: # is eye ray\n",
        "    is_light = res[:,0] == OBJ_LIGHT\n",
        "    Li_e = emittedRadiance\n",
        "    radiance[is_light,:] += Li_e\n",
        "  \n",
        "  #\n",
        "  # estimate direct area \n",
        "  #\n",
        "  \n",
        "  # each of the intersect points has some amount of light arriving\n",
        "  # sample point on area light TODO (ejang) - fix hardcoded light position\n",
        "  u = .5 * np.random.random(size=(p.shape[0],2))\n",
        "  p_light = np.zeros((p.shape[0],3))\n",
        "  p_light[:,0] = np.random.uniform(low=-.5,high=.5,size=(p.shape[0]))\n",
        "  p_light[:,1] = 3.9\n",
        "  p_light[:,2] = 2. + np.random.uniform(low=-.5,high=.5,size=(p.shape[0]))\n",
        "\n",
        "  wi_light = normalize(p_light - p)\n",
        "  \n",
        "  res2 = raymarch(p + 0.001 * nor, wi_light)\n",
        "  # occlusion factor\n",
        "  vis = res2[:,0] == OBJ_LIGHT\n",
        "  isect_and_vis = np.logical_and(did_intersect, vis)\n",
        "  \n",
        "  # Change of variables from (probability of sampling area) -> \n",
        "  # (probability of sampling solid angle) requires division by dw_i/dA.\n",
        "\n",
        "  # distance from p to light source.\n",
        "  square_distance = np.sum(np.square(p_light-p), axis=1, keepdims=True)  \n",
        "  # http://www.pbr-book.org/3ed-2018/Color_and_Radiometry/Working_with_Radiometric_Integrals.html\n",
        "  pdf_A = 1./LIGHT_AREA\n",
        "  Li_direct = (emittedRadiance * brdf * \n",
        "               relu(dot(nor, wi_light))  *\n",
        "               relu(dot(nor_light, -wi_light))) / (square_distance * pdf_A)\n",
        "\n",
        "  #print('Li_direct, current depth=%d' % (depth))\n",
        "  radiance[isect_and_vis,:] += Li_direct[isect_and_vis,:]\n",
        "\n",
        "  # return (radiance, p_light, p, emittedRadiance,  brdf, \n",
        "  #              relu(dot(nor, wi_light)),\n",
        "  #              relu(dot(nor_light, -wi_light)), square_distance, pdf_A, isect_and_vis)\n",
        "\n",
        "  # indirect incoming contribution for intersected points\n",
        "  # \n",
        "  # instead of RR sampling, we just trace for a fixed number of steps\n",
        "  # to yield a good approximation\n",
        "  \n",
        "  if depth < 3:\n",
        "    # note that ro2, rd2 have fewer items than ro,rd!\n",
        "    ro2 = p[did_intersect,:] + 0.001 * nor[did_intersect,:] # bump along normal\n",
        "    rd2 = sampleCosineWeightedHemisphere(nor[did_intersect,:])\n",
        "    Li_indirect = trace(ro2,rd2,depth+1)\n",
        "    # doing cosweighted sampling cancels out the geom term\n",
        "    radiance[did_intersect,:] += brdf[did_intersect,:] * Li_indirect\n",
        "  \n",
        "    #print('depth %d max_direct=%f, max_indirect=%f' % (depth, \n",
        "    #                                                   np.max(Li_direct[isect_and_vis,:]), \n",
        "    #                                                   np.max(Li_indirect)))\n",
        "  \n",
        "  return radiance # actually, radiance"
      ],
      "execution_count": 0,
      "outputs": []
    },
    {
      "cell_type": "code",
      "metadata": {
        "id": "cH3SNYEs70fl",
        "colab_type": "code",
        "colab": {}
      },
      "source": [
        "# temporary lighting hack\n",
        "#LIGHT_POS = np.array([[.7,2,-1]])\n",
        "#LIGHT_POS = np.array([[0,3.,2]])\n",
        "\n",
        "def render(ro,rd,debug=False):\n",
        "  # average over many samples of trace in pixel space\n",
        "  # TODO - the proper thing to do is to handle the colorspace conversion\n",
        "  # (Radiance -> CIE XYZ -> RGB xform) but let's just do a hack and use\n",
        "  # a sigmoid\n",
        "  color = trace(ro,rd,0)\n",
        "  return color"
      ],
      "execution_count": 0,
      "outputs": []
    },
    {
      "cell_type": "code",
      "metadata": {
        "id": "vO8dNNnovu3Q",
        "colab_type": "code",
        "colab": {}
      },
      "source": [
        "import time"
      ],
      "execution_count": 0,
      "outputs": []
    },
    {
      "cell_type": "code",
      "metadata": {
        "id": "WUa7hgrqzJ7w",
        "colab_type": "code",
        "colab": {}
      },
      "source": [
        "# render the image\n",
        "# perspective camera with image plane centered at 0,0,0\n",
        "\n",
        "N=100 # width of image plane\n",
        "xs=np.linspace(0,1,N) # 10 pixels\n",
        "us,vs = np.meshgrid(xs,xs) \n",
        "uv = np.vstack([us.flatten(),vs.flatten()]).T # 10x10 image grid\n",
        "p = np.zeros((N*N,3)) # \n",
        "p[:,:2] = -1+2*uv # normalize pixel locations to -1,1\n",
        "\n",
        "eye = np.tile([0,2.,-3.5],[p.shape[0],1])\n",
        "look = np.array([[0,2.0,0]]) # look straight ahead\n",
        "w = normalize(look - eye)\n",
        "\n",
        "up = np.array([[0,1,0]]) # up axis of world\n",
        "\n",
        "u = normalize(np.cross(w,up))\n",
        "v = normalize(np.cross(u,w))\n",
        "\n",
        "d=2.2 # focal distance\n",
        "rd = normalize(p[:,0,None]*u + p[:,1,None]*v + d*w)\n"
      ],
      "execution_count": 0,
      "outputs": []
    },
    {
      "cell_type": "code",
      "metadata": {
        "id": "lNaQtLv-zKjB",
        "colab_type": "code",
        "outputId": "52b52738-74d3-4820-fd1d-9a443ca58a18",
        "executionInfo": {
          "status": "ok",
          "timestamp": 1574659780639,
          "user_tz": 480,
          "elapsed": 393,
          "user": {
            "displayName": "Eric Jang",
            "photoUrl": "https://lh3.googleusercontent.com/a-/AAuE7mAMjPmMQfp2nkKuIOsGK7ZRAYfuieou1bC1tdbMMQ=s64",
            "userId": "12717831053666785416"
          }
        },
        "colab": {
          "height": 212
        }
      },
      "source": [
        "print('eye')\n",
        "print(eye[:3])\n",
        "print('rd')\n",
        "print(rd[:3])\n",
        "trace(eye[:3], rd[:3], 0)"
      ],
      "execution_count": 0,
      "outputs": [
        {
          "output_type": "stream",
          "text": [
            "eye\n",
            "[[ 0.   2.  -3.5]\n",
            " [ 0.   2.  -3.5]\n",
            " [ 0.   2.  -3.5]]\n",
            "rd\n",
            "[[ 0.38235956 -0.38235956  0.84119102]\n",
            " [ 0.37573526 -0.38348238  0.84366123]\n",
            " [ 0.36905287 -0.38459193  0.84610226]]\n"
          ],
          "name": "stdout"
        },
        {
          "output_type": "execute_result",
          "data": {
            "text/plain": [
              "array([[0.09148579, 0.22563693, 0.06051554],\n",
              "       [0.39390735, 0.5371033 , 0.30124211],\n",
              "       [0.38778922, 0.42417649, 0.28810902]])"
            ]
          },
          "metadata": {
            "tags": []
          },
          "execution_count": 354
        }
      ]
    },
    {
      "cell_type": "code",
      "metadata": {
        "id": "2eRZmnVLFNxb",
        "colab_type": "code",
        "outputId": "1d7fd4ad-3fea-4740-f5d9-10cad786a7cb",
        "executionInfo": {
          "status": "ok",
          "timestamp": 1574659783677,
          "user_tz": 480,
          "elapsed": 2726,
          "user": {
            "displayName": "Eric Jang",
            "photoUrl": "https://lh3.googleusercontent.com/a-/AAuE7mAMjPmMQfp2nkKuIOsGK7ZRAYfuieou1bC1tdbMMQ=s64",
            "userId": "12717831053666785416"
          }
        },
        "colab": {
          "height": 52
        }
      },
      "source": [
        "%%time\n",
        "img = render(eye,rd,debug=False)\n",
        "\n",
        "# (radiance, p_light, p, emittedRadiance,  brdf, \n",
        "# cos_i, cos_o, square_distance, pdf_A, isect_and_vis) = render(eye, rd, debug=False)\n"
      ],
      "execution_count": 0,
      "outputs": [
        {
          "output_type": "stream",
          "text": [
            "CPU times: user 2.04 s, sys: 334 ms, total: 2.38 s\n",
            "Wall time: 2.37 s\n"
          ],
          "name": "stdout"
        }
      ]
    },
    {
      "cell_type": "code",
      "metadata": {
        "id": "cYX1ikiqFRxA",
        "colab_type": "code",
        "outputId": "8b7aa499-e977-4554-8d41-0c4a9a34b018",
        "executionInfo": {
          "status": "ok",
          "timestamp": 1574659784118,
          "user_tz": 480,
          "elapsed": 428,
          "user": {
            "displayName": "Eric Jang",
            "photoUrl": "https://lh3.googleusercontent.com/a-/AAuE7mAMjPmMQfp2nkKuIOsGK7ZRAYfuieou1bC1tdbMMQ=s64",
            "userId": "12717831053666785416"
          }
        },
        "colab": {
          "height": 268
        }
      },
      "source": [
        "img = np.fliplr(np.flipud(img.reshape((N,N,3))))\n",
        "plt.imshow(img,interpolation='none',vmin = 0, vmax = 1)\n",
        "plt.grid('off')\n",
        "plt.show()"
      ],
      "execution_count": 0,
      "outputs": [
        {
          "output_type": "display_data",
          "data": {
            "image/png": "[encoded data removed]",
            "text/plain": [
              "<Figure size 600x400 with 1 Axes>"
            ]
          },
          "metadata": {
            "tags": []
          }
        }
      ]
    },
    {
      "cell_type": "code",
      "metadata": {
        "id": "RO3NWwI572Nu",
        "colab_type": "code",
        "outputId": "75442ef1-1b13-4fc4-b71a-790f7657e5c7",
        "executionInfo": {
          "status": "ok",
          "timestamp": 1574660009880,
          "user_tz": 480,
          "elapsed": 225377,
          "user": {
            "displayName": "Eric Jang",
            "photoUrl": "https://lh3.googleusercontent.com/a-/AAuE7mAMjPmMQfp2nkKuIOsGK7ZRAYfuieou1bC1tdbMMQ=s64",
            "userId": "12717831053666785416"
          }
        },
        "colab": {
          "height": 230
        }
      },
      "source": [
        "%%time\n",
        "\n",
        "NUM_SAMPLES=100\n",
        "\n",
        "for i in range(2,NUM_SAMPLES+1):\n",
        "  sample = render(eye,rd,debug=False)\n",
        "  if i % 10 == 0:\n",
        "    print('Sample %d' % i)\n",
        "  sample = np.fliplr(np.flipud(sample.reshape((N,N,3))))\n",
        "  img = (img + sample)"
      ],
      "execution_count": 0,
      "outputs": [
        {
          "output_type": "stream",
          "text": [
            "Sample 10\n",
            "Sample 20\n",
            "Sample 30\n",
            "Sample 40\n",
            "Sample 50\n",
            "Sample 60\n",
            "Sample 70\n",
            "Sample 80\n",
            "Sample 90\n",
            "Sample 100\n",
            "CPU times: user 3min 21s, sys: 23.1 s, total: 3min 44s\n",
            "Wall time: 3min 45s\n"
          ],
          "name": "stdout"
        }
      ]
    },
    {
      "cell_type": "code",
      "metadata": {
        "id": "SSd-rKiJv3Kq",
        "colab_type": "code",
        "outputId": "5b632e96-72b4-4fed-a0c6-35cbf8ba4e77",
        "executionInfo": {
          "status": "ok",
          "timestamp": 1574660010340,
          "user_tz": 480,
          "elapsed": 447,
          "user": {
            "displayName": "Eric Jang",
            "photoUrl": "https://lh3.googleusercontent.com/a-/AAuE7mAMjPmMQfp2nkKuIOsGK7ZRAYfuieou1bC1tdbMMQ=s64",
            "userId": "12717831053666785416"
          }
        },
        "colab": {
          "height": 286
        }
      },
      "source": [
        "# there are some bugs where the indirect illumination can exceed the direct illumination\n",
        "\n",
        "img = img/NUM_SAMPLES\n",
        "print(np.max(img))\n",
        "plt.imshow(img,interpolation='none',vmin = 0, vmax = 1)\n",
        "plt.grid('off')"
      ],
      "execution_count": 0,
      "outputs": [
        {
          "output_type": "stream",
          "text": [
            "8.187263327968568\n"
          ],
          "name": "stdout"
        },
        {
          "output_type": "display_data",
          "data": {
            "image/png": "[encoded data removed]",
            "text/plain": [
              "<Figure size 600x400 with 1 Axes>"
            ]
          },
          "metadata": {
            "tags": []
          }
        }
      ]
    },
    {
      "cell_type": "code",
      "metadata": {
        "id": "yuZYtwvYNk_H",
        "colab_type": "code",
        "colab": {}
      },
      "source": [
        ""
      ],
      "execution_count": 0,
      "outputs": []
    }
  ]
}